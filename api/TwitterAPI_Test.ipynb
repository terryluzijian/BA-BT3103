{
 "cells": [
  {
   "cell_type": "code",
   "execution_count": 8,
   "metadata": {},
   "outputs": [],
   "source": [
    "import pickle\n",
    "import tweepy\n",
    "\n",
    "from BasicAPI import BasicAPI\n",
    "\n",
    "\n",
    "def lambda_handler(event, context):\n",
    "    pass\n",
    "\n",
    "\n",
    "class TwitterAPI(BasicAPI):\n",
    "\n",
    "    type_name = 'twitter'\n",
    "    twitter_classifier = pickle.load(open('../data/CLASSIFIER.obj', 'rb'))\n",
    "\n",
    "    def __init__(self, arg):\n",
    "        super(TwitterAPI, self).__init__()\n",
    "        self.latest_twitter = []\n",
    "\n",
    "    def get_latest_twitter(self):\n",
    "        ACCESS_TOKEN = BasicAPI.api_key['Twitter']['ACCESS_TOKEN']\n",
    "        ACCESS_SECRET = BasicAPI.api_key['Twitter']['ACCESS_SECRET']\n",
    "        CONSUMER_KEY = BasicAPI.api_key['Twitter']['CONSUMER_KEY']\n",
    "        CONSUMER_SECRET = BasicAPI.api_key['Twitter']['CONSUMER_SECRET']\n",
    "        api = tweepy.API(tweepy.OAuthHandler(CONSUMER_KEY, CONSUMER_SECRET).set_access_token(ACCESS_TOKEN, ACCESS_SECRET))\n",
    "        tweet = []\n",
    "        for i in range(1):  # Only get nearest 200 * 20 per page\n",
    "            rst = api.user_timeline('307781209', tweet_mode='extended', page=i)\n",
    "            tweet += rst\n",
    "        print(len(tweet))\n"
   ]
  },
  {
   "cell_type": "code",
   "execution_count": 9,
   "metadata": {},
   "outputs": [
    {
     "data": {
      "text/plain": [
       "[{'Public Taxi/Bus': '8LOiGaQeTXO97oC7KkSYHA=='},\n",
       " {'Ofo': '3e9133f0-a27b-11e7-882a-5937e108b29a'}]"
      ]
     },
     "execution_count": 9,
     "metadata": {},
     "output_type": "execute_result"
    }
   ],
   "source": [
    "json.load(open('../data/API_KEY.json', 'r'))"
   ]
  },
  {
   "cell_type": "code",
   "execution_count": 5,
   "metadata": {},
   "outputs": [
    {
     "ename": "NameError",
     "evalue": "name 'TwitterAPI' is not defined",
     "output_type": "error",
     "traceback": [
      "\u001b[0;31m---------------------------------------------------------------------------\u001b[0m",
      "\u001b[0;31mNameError\u001b[0m                                 Traceback (most recent call last)",
      "\u001b[0;32m<ipython-input-5-6b99f1c3fb8d>\u001b[0m in \u001b[0;36m<module>\u001b[0;34m()\u001b[0m\n\u001b[0;32m----> 1\u001b[0;31m \u001b[0ma\u001b[0m \u001b[0;34m=\u001b[0m \u001b[0mTwitterAPI\u001b[0m\u001b[0;34m(\u001b[0m\u001b[0;36m1.29464\u001b[0m\u001b[0;34m,\u001b[0m \u001b[0;36m103.783\u001b[0m\u001b[0;34m)\u001b[0m\u001b[0;34m\u001b[0m\u001b[0m\n\u001b[0m",
      "\u001b[0;31mNameError\u001b[0m: name 'TwitterAPI' is not defined"
     ]
    }
   ],
   "source": [
    "a = TwitterAPI(1.29464, 103.783)"
   ]
  },
  {
   "cell_type": "code",
   "execution_count": 93,
   "metadata": {},
   "outputs": [
    {
     "data": {
      "text/plain": [
       "[{'ACCESS_TOKEN': '2675454162-YfUGh6ff2y1qmDTXPrjlJCT2QckIQ7O8X9WeBLe'},\n",
       " {'ACCESS_SECRET': '2Aq398sbkCXKXkLZWBNoWSGkIXmsZP0yQquEXxh6nm2HL'},\n",
       " {'CONSUMER_KEY': 'HAHth0DpaQpdHk15i9Xx6l3f8'},\n",
       " {'CONSUMER_SECRET': 'xXivCvBS6DsvNg38aAIWQRye2XCV7dLOzWJKXGR07wXotHKP8U'}]"
      ]
     },
     "execution_count": 93,
     "metadata": {},
     "output_type": "execute_result"
    }
   ],
   "source": [
    "BasicAPI.api_key['Twitter']"
   ]
  },
  {
   "cell_type": "code",
   "execution_count": 85,
   "metadata": {},
   "outputs": [],
   "source": [
    "dct = {\"Public Taxi/Bus\": \"8LOiGaQeTXO97oC7KkSYHA==\",\n",
    "       \"Ofo\": \"3e9133f0-a27b-11e7-882a-5937e108b29a\",\n",
    "       \"Twitter\":{\"ACCESS_TOKEN\": \"2675454162-YfUGh6ff2y1qmDTXPrjlJCT2QckIQ7O8X9WeBLe\",\n",
    "                  \"ACCESS_SECRET\" : \"2Aq398sbkCXKXkLZWBNoWSGkIXmsZP0yQquEXxh6nm2HL\",\n",
    "                  \"CONSUMER_KEY\" : \"HAHth0DpaQpdHk15i9Xx6l3f8\",\n",
    "                  \"CONSUMER_SECRET\" : \"xXivCvBS6DsvNg38aAIWQRye2XCV7dLOzWJKXGR07wXotHKP8U\"}\n",
    "}"
   ]
  },
  {
   "cell_type": "code",
   "execution_count": 48,
   "metadata": {},
   "outputs": [],
   "source": [
    "import json\n",
    "with open('API_KEY.json', 'w') as outfile:\n",
    "    json.dump(dct, outfile)"
   ]
  },
  {
   "cell_type": "code",
   "execution_count": 53,
   "metadata": {},
   "outputs": [
    {
     "ename": "AttributeError",
     "evalue": "'str' object has no attribute 'items'",
     "output_type": "error",
     "traceback": [
      "\u001b[0;31m---------------------------------------------------------------------------\u001b[0m",
      "\u001b[0;31mAttributeError\u001b[0m                            Traceback (most recent call last)",
      "\u001b[0;32m<ipython-input-53-228ac346d149>\u001b[0m in \u001b[0;36m<module>\u001b[0;34m()\u001b[0m\n\u001b[0;32m----> 1\u001b[0;31m \u001b[0mapi_key\u001b[0m \u001b[0;34m=\u001b[0m \u001b[0;34m{\u001b[0m\u001b[0mkey\u001b[0m\u001b[0;34m:\u001b[0m \u001b[0mvalue\u001b[0m \u001b[0;32mfor\u001b[0m \u001b[0msub_dict\u001b[0m \u001b[0;32min\u001b[0m \u001b[0mjson\u001b[0m\u001b[0;34m.\u001b[0m\u001b[0mload\u001b[0m\u001b[0;34m(\u001b[0m\u001b[0mopen\u001b[0m\u001b[0;34m(\u001b[0m\u001b[0;34m'data/API_KEY.json'\u001b[0m\u001b[0;34m,\u001b[0m \u001b[0;34m'r'\u001b[0m\u001b[0;34m)\u001b[0m\u001b[0;34m)\u001b[0m \u001b[0;32mfor\u001b[0m \u001b[0mkey\u001b[0m\u001b[0;34m,\u001b[0m \u001b[0mvalue\u001b[0m \u001b[0;32min\u001b[0m \u001b[0msub_dict\u001b[0m\u001b[0;34m.\u001b[0m\u001b[0mitems\u001b[0m\u001b[0;34m(\u001b[0m\u001b[0;34m)\u001b[0m\u001b[0;34m}\u001b[0m\u001b[0;34m\u001b[0m\u001b[0m\n\u001b[0m",
      "\u001b[0;32m<ipython-input-53-228ac346d149>\u001b[0m in \u001b[0;36m<dictcomp>\u001b[0;34m(.0)\u001b[0m\n\u001b[0;32m----> 1\u001b[0;31m \u001b[0mapi_key\u001b[0m \u001b[0;34m=\u001b[0m \u001b[0;34m{\u001b[0m\u001b[0mkey\u001b[0m\u001b[0;34m:\u001b[0m \u001b[0mvalue\u001b[0m \u001b[0;32mfor\u001b[0m \u001b[0msub_dict\u001b[0m \u001b[0;32min\u001b[0m \u001b[0mjson\u001b[0m\u001b[0;34m.\u001b[0m\u001b[0mload\u001b[0m\u001b[0;34m(\u001b[0m\u001b[0mopen\u001b[0m\u001b[0;34m(\u001b[0m\u001b[0;34m'data/API_KEY.json'\u001b[0m\u001b[0;34m,\u001b[0m \u001b[0;34m'r'\u001b[0m\u001b[0;34m)\u001b[0m\u001b[0;34m)\u001b[0m \u001b[0;32mfor\u001b[0m \u001b[0mkey\u001b[0m\u001b[0;34m,\u001b[0m \u001b[0mvalue\u001b[0m \u001b[0;32min\u001b[0m \u001b[0msub_dict\u001b[0m\u001b[0;34m.\u001b[0m\u001b[0mitems\u001b[0m\u001b[0;34m(\u001b[0m\u001b[0;34m)\u001b[0m\u001b[0;34m}\u001b[0m\u001b[0;34m\u001b[0m\u001b[0m\n\u001b[0m",
      "\u001b[0;31mAttributeError\u001b[0m: 'str' object has no attribute 'items'"
     ]
    }
   ],
   "source": [
    "api_key = {key: value for sub_dict in json.load(open('data/API_KEY.json', 'r')) for key, value in sub_dict.items()}"
   ]
  },
  {
   "cell_type": "code",
   "execution_count": 89,
   "metadata": {},
   "outputs": [],
   "source": [
    "a = json.load(open('data/API_KEY.json', 'r'))"
   ]
  },
  {
   "cell_type": "code",
   "execution_count": 90,
   "metadata": {},
   "outputs": [
    {
     "data": {
      "text/plain": [
       "{'ACCESS_SECRET': '2Aq398sbkCXKXkLZWBNoWSGkIXmsZP0yQquEXxh6nm2HL',\n",
       " 'ACCESS_TOKEN': '2675454162-YfUGh6ff2y1qmDTXPrjlJCT2QckIQ7O8X9WeBLe',\n",
       " 'CONSUMER_KEY': 'HAHth0DpaQpdHk15i9Xx6l3f8',\n",
       " 'CONSUMER_SECRET': 'xXivCvBS6DsvNg38aAIWQRye2XCV7dLOzWJKXGR07wXotHKP8U'}"
      ]
     },
     "execution_count": 90,
     "metadata": {},
     "output_type": "execute_result"
    }
   ],
   "source": [
    "a['Twitter']"
   ]
  },
  {
   "cell_type": "code",
   "execution_count": null,
   "metadata": {},
   "outputs": [],
   "source": []
  }
 ],
 "metadata": {
  "kernelspec": {
   "display_name": "Python 3",
   "language": "python",
   "name": "python3"
  },
  "language_info": {
   "codemirror_mode": {
    "name": "ipython",
    "version": 3
   },
   "file_extension": ".py",
   "mimetype": "text/x-python",
   "name": "python",
   "nbconvert_exporter": "python",
   "pygments_lexer": "ipython3",
   "version": "3.5.4"
  }
 },
 "nbformat": 4,
 "nbformat_minor": 2
}
